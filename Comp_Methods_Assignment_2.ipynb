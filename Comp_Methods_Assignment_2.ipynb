{
 "cells": [
  {
   "cell_type": "markdown",
   "id": "24d8f41d",
   "metadata": {},
   "source": [
    "# $\\textbf{Assignment 2}$"
   ]
  },
  {
   "cell_type": "markdown",
   "id": "774295ee",
   "metadata": {},
   "source": [
    "## $\\text{Importing Necessary Libraries}$"
   ]
  },
  {
   "cell_type": "code",
   "execution_count": 1,
   "id": "a160e2eb",
   "metadata": {},
   "outputs": [
    {
     "name": "stderr",
     "output_type": "stream",
     "text": [
      "Warning: Ignoring XDG_SESSION_TYPE=wayland on Gnome. Use QT_QPA_PLATFORM=wayland to run on Wayland anyway.\n"
     ]
    }
   ],
   "source": [
    "import numpy as np\n",
    "import matplotlib.pyplot as plt\n",
    "\n",
    "%matplotlib qt \n",
    "#(This may not work on Google Colab. You may open it in jupyter notebook)"
   ]
  },
  {
   "cell_type": "markdown",
   "id": "f4cd25d6",
   "metadata": {
    "heading_collapsed": true
   },
   "source": [
    "## $\\text{Problem 1}$"
   ]
  },
  {
   "cell_type": "code",
   "execution_count": 85,
   "id": "1d8385db",
   "metadata": {
    "hidden": true
   },
   "outputs": [],
   "source": [
    "def soln(t):\n",
    "    return t**2 + (2/5)*t + (2/25)"
   ]
  },
  {
   "cell_type": "code",
   "execution_count": 86,
   "id": "d20fb701",
   "metadata": {
    "hidden": true
   },
   "outputs": [],
   "source": [
    "def func(t,y):\n",
    "    return (5*y) - (5*(t**2))"
   ]
  },
  {
   "cell_type": "code",
   "execution_count": 87,
   "id": "6603dc77",
   "metadata": {
    "hidden": true
   },
   "outputs": [],
   "source": [
    "def euler(x,i1,function):\n",
    "    y = np.zeros(len(x))\n",
    "    h = x[1] - x[0]\n",
    "\n",
    "    y[0] = i1\n",
    "\n",
    "    for i in range(len(x)-1):\n",
    "        y[i+1] = y[i] + (h*(function(x[i],y[i])))\n",
    "\n",
    "    return y"
   ]
  },
  {
   "cell_type": "code",
   "execution_count": 88,
   "id": "4dadd94a",
   "metadata": {
    "hidden": true
   },
   "outputs": [],
   "source": [
    "def rk2(x,i1,function):\n",
    "    y = np.zeros(len(x))\n",
    "    h = x[1] - x[0]\n",
    "    y[0] = i1\n",
    "\n",
    "    for i in range(len(x)-1):\n",
    "        k1 = h*function(x[i],y[i])\n",
    "        k2 = h*function(x[i] + (0.5*h),y[i] + (0.5*k1))\n",
    "\n",
    "        y[i+1] = y[i] + k2\n",
    "\n",
    "    return y"
   ]
  },
  {
   "cell_type": "code",
   "execution_count": 89,
   "id": "61aca9a6",
   "metadata": {
    "hidden": true
   },
   "outputs": [],
   "source": [
    "def rk4(x,i1,function):\n",
    "    y = np.zeros(len(x))\n",
    "    h = x[1] - x[0]\n",
    "    y[0] = i1\n",
    "\n",
    "    for i in range(len(x)-1):\n",
    "        k1 = h*function(x[i],y[i])\n",
    "        k2 = h*function(x[i] + (0.5*h),y[i] + (0.5*k1))\n",
    "        k3 = h*function(x[i] + (0.5*h),y[i] + (0.5*k2))\n",
    "        k4 = h*function(x[i] + h,y[i] + k3)\n",
    "\n",
    "        y[i+1] = y[i] + (1/6)*(k1+(2*k2)+(2*k3)+k4)\n",
    "\n",
    "    return y"
   ]
  },
  {
   "cell_type": "code",
   "execution_count": 90,
   "id": "cc88bf07",
   "metadata": {
    "hidden": true
   },
   "outputs": [],
   "source": [
    "def back_euler_1(x,i1):\n",
    "    y = np.zeros(len(x))\n",
    "    h = x[1] - x[0]\n",
    "\n",
    "    y[0] = i1\n",
    "\n",
    "    for i in range(len(x)-1):\n",
    "        y[i+1] = (y[i] - (5*h*(t[i+1]**2)))/(1 - 5*h)\n",
    "        \n",
    "    return y"
   ]
  },
  {
   "cell_type": "code",
   "execution_count": 91,
   "id": "65177c28",
   "metadata": {
    "hidden": true
   },
   "outputs": [
    {
     "name": "stderr",
     "output_type": "stream",
     "text": [
      "The PostScript backend does not support transparency; partially transparent artists will be rendered opaque.\n",
      "The PostScript backend does not support transparency; partially transparent artists will be rendered opaque.\n",
      "The PostScript backend does not support transparency; partially transparent artists will be rendered opaque.\n"
     ]
    }
   ],
   "source": [
    "N = [25,250,2500]\n",
    "for i in range(len(N)):\n",
    "    t = np.linspace(0,2,N[i],endpoint=True)\n",
    "    y = soln(t)\n",
    "    y_euler = euler(t,(2/25),func)\n",
    "    y_rk2 = rk2(t,(2/25),func)\n",
    "    y_rk4 = rk4(t,(2/25),func)\n",
    "    y_euler_back = back_euler_1(t,(2/25))\n",
    "\n",
    "    plt.figure(figsize=(14,8),dpi=100)\n",
    "    plt.plot(t,y,color='k',lw=3,linestyle='-',label='Analytical Solution')\n",
    "    plt.plot(t,y_euler,color='r',lw=1.7,linestyle='-',label='Euler Solution')\n",
    "    plt.plot(t,y_rk2,color='b',lw=1.7,linestyle='-.',label='RK2 Solution')\n",
    "    plt.plot(t,y_rk4,color='g',lw=1.7,linestyle='-.',label='RK4 Solution')\n",
    "    plt.plot(t,y_euler_back,color='orange',lw=1.7,linestyle='-.',label='Backward Euler Solution')\n",
    "    \n",
    "    plt.xticks(size=20)\n",
    "    plt.minorticks_on()\n",
    "    plt.yticks(size=20)\n",
    "    plt.grid()\n",
    "    plt.title(\"Solution of $\\dfrac{dy}{dt} = 5y - 5t^{2}$ for no. of steps (n) = %d\" %N[i],size=22)\n",
    "    #plt.text(0, -10, \"$y=t^2 + 0.4x + 0.08$ is the analytical solution.\", fontsize=22, bbox=dict(facecolor='red', alpha=0.2))\n",
    "    plt.legend(fontsize=18)\n",
    "    plt.savefig(\"plot_res_%d.eps\" %(i+1),format='eps')"
   ]
  },
  {
   "cell_type": "markdown",
   "id": "cbfe44ae",
   "metadata": {},
   "source": [
    "## $\\text{Problem 2}$"
   ]
  },
  {
   "cell_type": "code",
   "execution_count": 20,
   "id": "feffa847",
   "metadata": {},
   "outputs": [
    {
     "name": "stdout",
     "output_type": "stream",
     "text": [
      "0.025025025025025027\n"
     ]
    }
   ],
   "source": [
    "#Defining the constants\n",
    "\n",
    "sigma = 1.0\n",
    "pi = np.pi\n",
    "\n",
    "#Defining the grid, step-size, velocity etc. \n",
    "\n",
    "n_time = [10,100,1000]\n",
    "\n",
    "x_vals = np.linspace(-10,10,200,endpoint=True)\n",
    "t_vals = np.linspace(0,25,1000,endpoint=True)\n",
    "\n",
    "dx = x_vals[1] - x_vals[0]\n",
    "dt = t_vals[1] - t_vals[0]\n",
    "\n",
    "print(dt)\n",
    "a = [3.0,-3.0,10.0]\n",
    "C = a[0]*(dt/dx)"
   ]
  },
  {
   "cell_type": "markdown",
   "id": "239aa824",
   "metadata": {},
   "source": [
    "### $\\textit{Initial Normalized Gaussian Pulse}$"
   ]
  },
  {
   "cell_type": "code",
   "execution_count": 6,
   "id": "0b6cb0e0",
   "metadata": {},
   "outputs": [],
   "source": [
    "u_vals = np.zeros([len(t_vals),len(x_vals)])\n",
    "\n",
    "#Normalized Gaussian Pulse at t=0\n",
    "u_vals[0,:] = (1/(sigma*np.sqrt(2*pi)))*np.exp(-(x_vals**2)/(2*(sigma**2)))\n",
    "\n",
    "plt.figure(figsize=(14,8),dpi=80)\n",
    "plt.plot(x_vals,u_vals[0],lw=2,ls=\"-.\",color='k')\n",
    "\n",
    "plt.xticks(size=15)\n",
    "plt.minorticks_on()\n",
    "plt.yticks(size=15)\n",
    "plt.xlabel(\"Increasing $x$ values $\\longrightarrow$\",size=18)\n",
    "plt.ylabel(\"Increasing $u$ values $\\longrightarrow$\",size=18)\n",
    "plt.title(\"Normalized Gaussian Pulse at $t=0$\",size=20)\n",
    "plt.grid()"
   ]
  },
  {
   "cell_type": "markdown",
   "id": "f6b31889",
   "metadata": {},
   "source": [
    "$\\textbf{We will now solve the advection equation for the given pulse using various}$ $\\textbf{schemes and check their stabilities.}$"
   ]
  },
  {
   "cell_type": "markdown",
   "id": "8b307cd6",
   "metadata": {},
   "source": [
    "### $\\textit{FTCS Scheme}$"
   ]
  },
  {
   "cell_type": "code",
   "execution_count": 21,
   "id": "12f3babd",
   "metadata": {},
   "outputs": [],
   "source": [
    "u_vals_ftcs = np.zeros([len(t_vals),len(x_vals)])\n",
    "\n",
    "u_vals_ftcs[0,:] = (1/(sigma*np.sqrt(2*pi)))*np.exp(-(x_vals**2)/(2*(sigma**2)))\n",
    "\n",
    "fig = plt.figure(figsize=(14,8),dpi=80)\n",
    "#ax = plt.subplots()\n",
    "res, = plt.plot(x_vals,u_vals[0])\n",
    "plt.xticks(size=15)\n",
    "plt.yticks(size=15)\n",
    "#plt.ylim(-30,30)\n",
    "plt.xlabel(\"Increasing Space grid points $\\longrightarrow$\",size=18)\n",
    "plt.ylabel(\"Increasing $u$ Values\",size=18)\n",
    "plt.grid()\n",
    "plt.minorticks_on()\n",
    "\n",
    "for n in range(len(t_vals)-1):\n",
    "    for i in range(1,len(x_vals)-1):\n",
    "        u_vals_ftcs[n+1,i] = u_vals_ftcs[n,i] - (C/2)*(u_vals_ftcs[n,i+1] - u_vals_ftcs[n,i-1])\n",
    "    \n",
    "    u_vals_ftcs[n+1,0] = u_vals_ftcs[n,-2]\n",
    "    u_vals_ftcs[n+1,-1] = u_vals_ftcs[n,1]\n",
    "    \n",
    "    res.set_ydata(u_vals_ftcs[n+1])\n",
    "    fig.canvas.draw()\n",
    "    plt.pause(0.00001)\n",
    "    fig.canvas.flush_events()"
   ]
  },
  {
   "cell_type": "markdown",
   "id": "444f5d4c",
   "metadata": {},
   "source": [
    "### $\\textit{Upwind Scheme}$"
   ]
  },
  {
   "cell_type": "code",
   "execution_count": 25,
   "id": "e38b0a54",
   "metadata": {},
   "outputs": [],
   "source": [
    "u_vals_upwind = np.zeros([len(t_vals),len(x_vals)])\n",
    "\n",
    "u_vals_upwind[0,:] = (1/(sigma*np.sqrt(2*pi)))*np.exp(-(x_vals**2)/(2*(sigma**2)))\n",
    "\n",
    "fig = plt.figure(figsize=(14,8),dpi=80)\n",
    "res, = plt.plot(x_vals,u_vals_upwind[0])\n",
    "plt.xticks(size=15)\n",
    "plt.yticks(size=15)\n",
    "plt.xlabel(\"Increasing Space grid points $\\longrightarrow$\",size=18)\n",
    "plt.ylabel(\"Increasing $u$ Values\",size=18)\n",
    "plt.grid()\n",
    "plt.minorticks_on()\n",
    "\n",
    "for n in range(len(t_vals)-1):\n",
    "    for i in range(len(x_vals)-1):\n",
    "        u_vals_upwind[n+1,i] = u_vals_upwind[n,i] - (C)*(u_vals_upwind[n,i] - u_vals_upwind[n,i-1])\n",
    "    \n",
    "    u_vals_upwind[n+1,0] = u_vals_upwind[n,-2]\n",
    "    u_vals_upwind[n+1,-1] = u_vals_upwind[n,1]\n",
    "    \n",
    "    res.set_ydata(u_vals_upwind[n+1])\n",
    "    fig.canvas.draw()\n",
    "    fig.canvas.flush_events()"
   ]
  },
  {
   "cell_type": "markdown",
   "id": "2de396cd",
   "metadata": {
    "heading_collapsed": true
   },
   "source": [
    "### $\\textit{Lax Method}$"
   ]
  },
  {
   "cell_type": "code",
   "execution_count": 71,
   "id": "6cc39734",
   "metadata": {
    "hidden": true
   },
   "outputs": [],
   "source": [
    "u_vals_lax = np.zeros([len(t_vals),len(x_vals)])\n",
    "\n",
    "u_vals_lax[0,:] = (1/(sigma*np.sqrt(2*pi)))*np.exp(-(x_vals**2)/(2*(sigma**2)))\n",
    "\n",
    "fig = plt.figure(figsize=(14,8),dpi=80)\n",
    "res, = plt.plot(x_vals,u_vals_lax[0])\n",
    "plt.xticks(size=15)\n",
    "plt.yticks(size=15)\n",
    "plt.xlabel(\"Increasing Space grid points $\\longrightarrow$\",size=18)\n",
    "plt.ylabel(\"Increasing $u$ Values\",size=18)\n",
    "plt.grid()\n",
    "plt.minorticks_on()\n",
    "\n",
    "for n in range(len(t_vals)-1):\n",
    "    for i in range(1,len(x_vals)-1):\n",
    "        u_vals_lax[n+1,i] = (1/2)*(u_vals_lax[n,i+1] + u_vals_lax[n,i-1]) - (C/2)*(u_vals_lax[n,i+1] - u_vals_lax[n,i-1])\n",
    "    \n",
    "    u_vals_lax[n+1,0] = u_vals_lax[n,-2]\n",
    "    u_vals_lax[n+1,-1] = u_vals_lax[n,1]\n",
    "    \n",
    "    res.set_ydata(u_vals_lax[n+1])\n",
    "    fig.canvas.draw()\n",
    "    fig.canvas.flush_events()"
   ]
  },
  {
   "cell_type": "markdown",
   "id": "8f5705ac",
   "metadata": {
    "heading_collapsed": true
   },
   "source": [
    "### $\\textit{Lax-Wendroff Method}$"
   ]
  },
  {
   "cell_type": "code",
   "execution_count": 72,
   "id": "117aec19",
   "metadata": {
    "hidden": true,
    "scrolled": false
   },
   "outputs": [],
   "source": [
    "u_vals_laxwend = np.zeros([len(t_vals),len(x_vals)])\n",
    "\n",
    "u_vals_laxwend[0,:] = (1/(sigma*np.sqrt(2*pi)))*np.exp(-(x_vals**2)/(2*(sigma**2)))\n",
    "\n",
    "fig = plt.figure(figsize=(14,8),dpi=80)\n",
    "res, = plt.plot(x_vals,u_vals_laxwend[0])\n",
    "plt.xticks(size=15)\n",
    "plt.yticks(size=15)\n",
    "plt.xlabel(\"Increasing Space grid points $\\longrightarrow$\",size=18)\n",
    "plt.ylabel(\"Increasing $u$ Values\",size=18)\n",
    "plt.grid()\n",
    "plt.minorticks_on()\n",
    "\n",
    "for n in range(len(t_vals)-1):\n",
    "    for i in range(1,len(x_vals)-1):\n",
    "        u_vals_laxwend[n+1,i] = u_vals_laxwend[n,i] - (C/2)*(u_vals_laxwend[n,i+1] - u_vals_laxwend[n,i-1]) + ((C**2)/2)*(u_vals_laxwend[n,i+1] - 2*(u_vals_laxwend[n,i]) + u_vals_laxwend[n,i-1])\n",
    "    \n",
    "    u_vals_laxwend[n+1,0] = u_vals_laxwend[n,-2]\n",
    "    u_vals_laxwend[n+1,-1] = u_vals_laxwend[n,1]\n",
    "    \n",
    "    res.set_ydata(u_vals_laxwend[n+1])\n",
    "    fig.canvas.draw()\n",
    "    fig.canvas.flush_events()"
   ]
  },
  {
   "cell_type": "markdown",
   "id": "3d0f2216",
   "metadata": {},
   "source": [
    "### $\\textit{MacCormack Method}$"
   ]
  },
  {
   "cell_type": "code",
   "execution_count": 82,
   "id": "c33ddc54",
   "metadata": {},
   "outputs": [],
   "source": [
    "u_vals_mac = np.zeros([len(t_vals),len(x_vals)])\n",
    "\n",
    "u_vals_mac[0,:] = (1/(sigma*np.sqrt(2*pi)))*np.exp(-(x_vals**2)/(2*(sigma**2)))\n",
    "\n",
    "fig = plt.figure(figsize=(14,8),dpi=80)\n",
    "res, = plt.plot(x_vals,u_vals_mac[0])\n",
    "plt.xticks(size=15)\n",
    "plt.yticks(size=15)\n",
    "#plt.ylim(0.38,0.41)\n",
    "plt.xlabel(\"Increasing Space grid points $\\longrightarrow$\",size=18)\n",
    "plt.ylabel(\"Increasing $u$ Values\",size=18)\n",
    "plt.grid()\n",
    "plt.minorticks_on()\n",
    "\n",
    "for n in range(len(t_vals)-1):\n",
    "    for i in range(1,len(x_vals)-1):\n",
    "#         u_vals_tempo = u_vals_mac[n].copy()\n",
    "#         u_vals_tempo[i] = u_vals_mac[n,i] + C*(u_vals_mac[n,i] - u_vals_mac[n,i+1])\n",
    "#         u_vals_mac[n+1,i] = (1/2)*(u_vals_mac[n,i] + u_vals_tempo[i]) - (C/2)*(u_vals_tempo[i] - u_vals_tempo[i-1])\n",
    "          u_vals_mac[n+1,i] = u_vals_mac[n,i] - (C/2)*(u_vals_mac[n,i+1] - u_vals_mac[n,i-1]) + ((C**2)/2)*(u_vals_mac[n,i+1] - 2*(u_vals_mac[n,i]) + u_vals_mac[n,i-1])  \n",
    "    u_vals_mac[n+1,0] = u_vals_mac[n,-2]\n",
    "    u_vals_mac[n+1,-1] = u_vals_mac[n,1]\n",
    "    \n",
    "    res.set_ydata(u_vals_mac[n+1])\n",
    "    fig.canvas.draw()\n",
    "    fig.canvas.flush_events()"
   ]
  },
  {
   "cell_type": "markdown",
   "id": "31607ddf",
   "metadata": {},
   "source": [
    "#### $\\textbf{The below cell is to advect a rectangular pulse centered at } x = 0 \\textbf{.}$"
   ]
  },
  {
   "cell_type": "code",
   "execution_count": 12,
   "id": "66a6e7ee",
   "metadata": {},
   "outputs": [],
   "source": [
    "u_vals_mac_2nd = np.zeros([len(t_vals),len(x_vals)])\n",
    "\n",
    "for i in range(len(x_vals)):\n",
    "    if -0.5<= x_vals[i] <= 0.5:\n",
    "        u_vals_mac_2nd[0,i] = 2\n",
    "    else:\n",
    "        u_vals_mac_2nd[0,i] = 0\n",
    "\n",
    "fig = plt.figure(figsize=(14,8),dpi=80)\n",
    "res, = plt.plot(x_vals,u_vals_mac_2nd[0])\n",
    "plt.xticks(size=15)\n",
    "plt.yticks(size=15)\n",
    "plt.ylim(-10,10)\n",
    "plt.xlabel(\"Increasing Space grid points $\\longrightarrow$\",size=18)\n",
    "plt.ylabel(\"Increasing $u$ Values\",size=18)\n",
    "plt.grid()\n",
    "plt.minorticks_on()\n",
    "\n",
    "for n in range(len(t_vals)-1):\n",
    "    for i in range(1,len(x_vals)-1):\n",
    "#         u_vals_tempo = u_vals_mac_2nd[i].copy()\n",
    "#         u_vals_tempo[i] = u_vals_mac_2nd[n,i] + C*(u_vals_mac_2nd[n,i] - u_vals_mac_2nd[n,i+1])\n",
    "#         u_vals_mac_2nd[n+1,i] = (1/2)*(u_vals_mac_2nd[n,i] + u_vals_tempo[i]) - (C/2)*(u_vals_tempo[i] - u_vals_tempo[i-1])\n",
    "        u_vals_mac_2nd[n+1,i] = u_vals_mac_2nd[n,i] - (C/2)*(u_vals_mac_2nd[n,i+1] - u_vals_mac_2nd[n,i-1]) + ((C**2)/2)*(u_vals_mac_2nd[n,i+1] - 2*(u_vals_mac_2nd[n,i]) + u_vals_mac_2nd[n,i-1])  \n",
    "    u_vals_mac_2nd[n+1,0] = u_vals_mac_2nd[n,-2]\n",
    "    u_vals_mac_2nd[n+1,-1] = u_vals_mac_2nd[n,1]\n",
    "    \n",
    "    res.set_ydata(u_vals_mac_2nd[n+1])\n",
    "    fig.canvas.draw()\n",
    "    fig.canvas.flush_events()"
   ]
  }
 ],
 "metadata": {
  "kernelspec": {
   "display_name": "Python 3 (ipykernel)",
   "language": "python",
   "name": "python3"
  },
  "language_info": {
   "codemirror_mode": {
    "name": "ipython",
    "version": 3
   },
   "file_extension": ".py",
   "mimetype": "text/x-python",
   "name": "python",
   "nbconvert_exporter": "python",
   "pygments_lexer": "ipython3",
   "version": "3.9.13"
  }
 },
 "nbformat": 4,
 "nbformat_minor": 5
}
